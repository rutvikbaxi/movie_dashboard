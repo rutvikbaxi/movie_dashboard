{
 "cells": [
  {
   "cell_type": "code",
   "execution_count": 9,
   "metadata": {},
   "outputs": [],
   "source": [
    "from selenium import webdriver\n",
    "from selenium.webdriver.common.by import By\n",
    "from selenium.webdriver.support.ui import WebDriverWait\n",
    "from selenium.webdriver.support import expected_conditions as EC\n",
    "import pandas as pd\n",
    "import re\n",
    "import time\n"
   ]
  },
  {
   "cell_type": "code",
   "execution_count": 541,
   "metadata": {},
   "outputs": [],
   "source": [
    "driver = webdriver.Chrome()\n",
    "url = \"https://www.pvrcinemas.com/Bengaluru/cinemas/showtimes\"\n",
    "movie_name = \"JAWAN\"\n",
    "city = \"Bengaluru\"\n",
    "driver.get(url)\n",
    "\n",
    "WebDriverWait(driver, 5).until(EC.presence_of_element_located((By.CLASS_NAME, \"movie-box\")))\n",
    "\n",
    "movie_elements = driver.find_elements(By.CLASS_NAME, \"movie-box\")\n",
    "for movie_element in movie_elements:\n",
    "    movie_title = movie_element.find_element(By.CLASS_NAME, \"m-title\")\n",
    "    if movie_title and movie_name in movie_title.text:\n",
    "\n",
    "        booking_button = movie_element.find_element(By.CSS_SELECTOR, \".btn.btn-primary-white.text-uppercase.ng-star-inserted\")\n",
    "        driver.get(booking_button.get_attribute(\"href\"))\n",
    "        break"
   ]
  },
  {
   "cell_type": "code",
   "execution_count": 542,
   "metadata": {},
   "outputs": [
    {
     "data": {
      "text/plain": [
       "23"
      ]
     },
     "execution_count": 542,
     "metadata": {},
     "output_type": "execute_result"
    }
   ],
   "source": [
    "driver.execute_script(\"window.scrollTo(0, document.body.scrollHeight);\")\n",
    "driver.execute_script(\"window.scrollTo(0, document.body.scrollHeight);\")\n",
    "cinema_list = driver.find_elements(By.CSS_SELECTOR, \".cinema-holder.ng-star-inserted\")\n",
    "time.sleep(3)\n",
    "driver.execute_script(\"window.scrollTo(0, document.body.scrollHeight);\")\n",
    "cinema_list = driver.find_elements(By.CSS_SELECTOR, \".cinema-holder.ng-star-inserted\")\n",
    "driver.execute_script(\"window.scrollTo(0, 0);\")\n",
    "len(cinema_list)\n"
   ]
  },
  {
   "cell_type": "code",
   "execution_count": 428,
   "metadata": {},
   "outputs": [],
   "source": []
  },
  {
   "cell_type": "code",
   "execution_count": 545,
   "metadata": {},
   "outputs": [
    {
     "name": "stdout",
     "output_type": "stream",
     "text": [
      "17\n",
      "PVR VEGA Bengaluru\n",
      "PVR Nexus (Formerly Forum), Koramangala\n",
      "INOX Central, Mantri Junction, JP Nagar\n",
      "no offers\n"
     ]
    }
   ],
   "source": [
    "driver.execute_script(\"window.scrollTo(0, document.body.scrollHeight);\")\n",
    "cinema_list = driver.find_elements(By.CSS_SELECTOR, \".cinema-holder.ng-star-inserted\")\n",
    "driver.execute_script(\"window.scrollTo(0, 0);\")\n",
    "print(len(cinema_list))\n",
    "\n",
    "show_times=dict()\n",
    "\n",
    "for i in range(3):\n",
    "    cinema_list = driver.find_elements(By.CSS_SELECTOR, \".cinema-holder.ng-star-inserted\")\n",
    "    cinema = cinema_list[i]\n",
    "    print(cinema.find_element(By.CLASS_NAME, \"title\").text)\n",
    "    cinema_button = cinema.find_element(By.CLASS_NAME, \"cinema-title\")\n",
    "    cinema_button.click()\n",
    "    hindi_2d_elements = cinema.find_elements(By.XPATH, '//h4[contains(@class, \"type-title\") and contains(text(), \"HINDI- 2D\")]')\n",
    "    for hindi_2d_element in hindi_2d_elements:\n",
    "        if len(hindi_2d_element.text)==0:\n",
    "            continue\n",
    "        ul_element = hindi_2d_element.find_element(By.XPATH, './following-sibling::ul[@class=\"type-time-slots ng-star-inserted\"]')\n",
    "        slot_elements = ul_element.find_elements(By.XPATH, './/li[@class=\"ng-star-inserted\"]') \n",
    "        for slot in slot_elements:\n",
    "            n=len(show_times)\n",
    "            if (len(slot.text.strip()) != 0) and (slot.find_element(By.XPATH, './/span').get_attribute(\"class\").split(\"-\")[1] == \"success\"):\n",
    "                show_times[n] = {\n",
    "                    \"name\" : cinema.find_element(By.CLASS_NAME, \"title\").text,\n",
    "                    \"time\" : slot.text.strip(),\n",
    "                    \"type\" : slot.find_element(By.XPATH, './/span').get_attribute(\"class\").split(\"-\")[1]\n",
    "                } \n",
    "                break\n",
    "        break\n",
    "\n",
    "    try:\n",
    "        slot.click()\n",
    "        time.sleep(3)\n",
    "        wait = WebDriverWait(driver, 5)\n",
    "        loaded = wait.until(EC.presence_of_element_located((By.CLASS_NAME, \"skip-btn\")))\n",
    "\n",
    "        skip_btn = driver.find_element(By.CLASS_NAME, \"skip-btn\")\n",
    "        skip_btn.click()\n",
    "\n",
    "    except:\n",
    "        print(\"no offers\")\n",
    "\n",
    "    time.sleep(5)\n",
    "    wait = WebDriverWait(driver, 5)\n",
    "    loaded = wait.until(EC.presence_of_element_located((By.CLASS_NAME, \"modal-content-header\")))\n",
    "\n",
    "    close_class = driver.find_element(By.CLASS_NAME, \"modal-content-header\")\n",
    "    btn = close_class.find_element(By.CLASS_NAME, \"ion-android-close\")\n",
    "    btn.click()\n",
    "\n",
    "    seat_prices_array = [title.find_element(By.XPATH, \".//span\").text for title in driver.find_elements(By.CLASS_NAME, \"seats-col\") if title.find_element(By.XPATH, \".//span\").get_attribute(\"class\")==\"area hshshs\"]\n",
    "    seat_prices = [int(float(re.search(r'(\\d+\\.\\d+)', seat).group(1))) for seat in seat_prices_array]\n",
    "\n",
    "    n_seats = 0\n",
    "    n_seats_available = 0\n",
    "    rows = driver.find_elements(By.CSS_SELECTOR, \".seats-row.ng-star-inserted\")\n",
    "    for row in rows:\n",
    "        n_seats+= len(row.find_elements(By.CSS_SELECTOR, \".seats-col.ng-star-inserted\"))\n",
    "        n_seats_available += len([1 for x in row.find_elements(By.XPATH, './/span') if x.get_attribute(\"class\") == 'seat current'])\n",
    "    \n",
    "    show_times[n][\"total seats\"] = n_seats\n",
    "    show_times[n][\"seats available\"] = n_seats_available    \n",
    "    show_times[n][\"Pricing\"] = '/'.join(map(str, seat_prices))\n",
    "\n",
    "    btn = driver.find_element(By.CLASS_NAME, \"ion-arrow-left-c\")\n",
    "    btn.click()\n",
    "    wait = WebDriverWait(driver, 5)\n",
    "    element_on_next_page = wait.until(EC.presence_of_element_located((By.CSS_SELECTOR, \".cinema-holder.ng-star-inserted\")))\n",
    "\n",
    "    driver.execute_script(\"window.scrollTo(0, document.body.scrollHeight);\")\n",
    "    cinema_list = driver.find_elements(By.CSS_SELECTOR, \".cinema-holder.ng-star-inserted\")\n",
    "    driver.execute_script(\"window.scrollTo(0, 0);\")"
   ]
  },
  {
   "cell_type": "code",
   "execution_count": 4,
   "metadata": {},
   "outputs": [
    {
     "name": "stdout",
     "output_type": "stream",
     "text": [
      "0 23 INOX Garuda Yelahanka\n",
      "no offers\n",
      "1 0 PVR Nexus (Formerly Forum), Koramangala\n",
      "2 1 INOX Central, Mantri Junction, JP Nagar\n",
      "no offers\n",
      "error\n"
     ]
    }
   ],
   "source": [
    "from functions import * \n",
    "\n",
    "theatres = create_cinemas_list(\"Bengaluru\")\n",
    "driver = webdriver.Chrome()\n",
    "open_booking_page(\"JAWAN\", driver)\n",
    "shows = create_show_list(driver)"
   ]
  },
  {
   "cell_type": "code",
   "execution_count": 6,
   "metadata": {},
   "outputs": [],
   "source": [
    "final_df = shows.merge(theatres, how=\"left\", on=\"name\")"
   ]
  },
  {
   "cell_type": "code",
   "execution_count": 52,
   "metadata": {},
   "outputs": [],
   "source": [
    "import pandas as pd\n",
    "import sqlite3\n",
    "import os\n",
    "basedir = os.getcwd()\n",
    "parent_dict = os.path.dirname(basedir)\n",
    "db_path = os.path.join(parent_dict, 'todo.db')\n",
    "conn = sqlite3.connect(db_path)\n",
    "final_df.to_sql('movie_shows', conn, if_exists='replace', index=True)\n",
    "conn.commit()\n",
    "conn.close()\n"
   ]
  },
  {
   "cell_type": "code",
   "execution_count": 51,
   "metadata": {},
   "outputs": [
    {
     "data": {
      "text/html": [
       "<div>\n",
       "<style scoped>\n",
       "    .dataframe tbody tr th:only-of-type {\n",
       "        vertical-align: middle;\n",
       "    }\n",
       "\n",
       "    .dataframe tbody tr th {\n",
       "        vertical-align: top;\n",
       "    }\n",
       "\n",
       "    .dataframe thead th {\n",
       "        text-align: right;\n",
       "    }\n",
       "</style>\n",
       "<table border=\"1\" class=\"dataframe\">\n",
       "  <thead>\n",
       "    <tr style=\"text-align: right;\">\n",
       "      <th></th>\n",
       "      <th>Theatre</th>\n",
       "      <th>Time</th>\n",
       "      <th>type</th>\n",
       "      <th>TotalSeats</th>\n",
       "      <th>SeatsAvailable</th>\n",
       "      <th>Cost</th>\n",
       "      <th>Latitude</th>\n",
       "      <th>Longitude</th>\n",
       "      <th>Movie</th>\n",
       "      <th>City</th>\n",
       "    </tr>\n",
       "  </thead>\n",
       "  <tbody>\n",
       "    <tr>\n",
       "      <th>0</th>\n",
       "      <td>INOX Garuda Yelahanka</td>\n",
       "      <td>9:30 PM</td>\n",
       "      <td>success</td>\n",
       "      <td>216</td>\n",
       "      <td>105</td>\n",
       "      <td>270/360</td>\n",
       "      <td>13.097762</td>\n",
       "      <td>77.581719</td>\n",
       "      <td>JAWAN</td>\n",
       "      <td>Bengaluru</td>\n",
       "    </tr>\n",
       "    <tr>\n",
       "      <th>1</th>\n",
       "      <td>PVR VEGA Bengaluru</td>\n",
       "      <td>9:30 PM</td>\n",
       "      <td>warning</td>\n",
       "      <td>368</td>\n",
       "      <td>50</td>\n",
       "      <td>300/320/580</td>\n",
       "      <td>12.915512</td>\n",
       "      <td>77.613051</td>\n",
       "      <td>JAWAN</td>\n",
       "      <td>Bengaluru</td>\n",
       "    </tr>\n",
       "    <tr>\n",
       "      <th>2</th>\n",
       "      <td>PVR Nexus (Formerly Forum), Koramangala</td>\n",
       "      <td>8:50 PM</td>\n",
       "      <td>warning</td>\n",
       "      <td>NaN</td>\n",
       "      <td>NaN</td>\n",
       "      <td>NaN</td>\n",
       "      <td>12.934801</td>\n",
       "      <td>77.611585</td>\n",
       "      <td>JAWAN</td>\n",
       "      <td>Bengaluru</td>\n",
       "    </tr>\n",
       "  </tbody>\n",
       "</table>\n",
       "</div>"
      ],
      "text/plain": [
       "                                   Theatre     Time     type TotalSeats  \\\n",
       "0                    INOX Garuda Yelahanka  9:30 PM  success        216   \n",
       "1                       PVR VEGA Bengaluru  9:30 PM  warning        368   \n",
       "2  PVR Nexus (Formerly Forum), Koramangala  8:50 PM  warning        NaN   \n",
       "\n",
       "  SeatsAvailable         Cost   Latitude  Longitude  Movie       City  \n",
       "0            105      270/360  13.097762  77.581719  JAWAN  Bengaluru  \n",
       "1             50  300/320/580  12.915512  77.613051  JAWAN  Bengaluru  \n",
       "2            NaN          NaN  12.934801  77.611585  JAWAN  Bengaluru  "
      ]
     },
     "execution_count": 51,
     "metadata": {},
     "output_type": "execute_result"
    }
   ],
   "source": [
    "final_df[\"Longitude\"] = final_df[\"Longitude\"].astype(float)\n",
    "final_df[\"Latitude\"] = final_df[\"Latitude\"].astype(float)\n",
    "final_df"
   ]
  },
  {
   "cell_type": "code",
   "execution_count": 53,
   "metadata": {},
   "outputs": [
    {
     "data": {
      "text/plain": [
       "0    13.097762\n",
       "1    12.915512\n",
       "2    12.934801\n",
       "Name: Latitude, dtype: float64"
      ]
     },
     "execution_count": 53,
     "metadata": {},
     "output_type": "execute_result"
    }
   ],
   "source": [
    "final_df[\"Latitude\"]"
   ]
  },
  {
   "cell_type": "code",
   "execution_count": null,
   "metadata": {},
   "outputs": [],
   "source": []
  }
 ],
 "metadata": {
  "kernelspec": {
   "display_name": "venv",
   "language": "python",
   "name": "python3"
  },
  "language_info": {
   "codemirror_mode": {
    "name": "ipython",
    "version": 3
   },
   "file_extension": ".py",
   "mimetype": "text/x-python",
   "name": "python",
   "nbconvert_exporter": "python",
   "pygments_lexer": "ipython3",
   "version": "3.10.7"
  },
  "orig_nbformat": 4
 },
 "nbformat": 4,
 "nbformat_minor": 2
}
